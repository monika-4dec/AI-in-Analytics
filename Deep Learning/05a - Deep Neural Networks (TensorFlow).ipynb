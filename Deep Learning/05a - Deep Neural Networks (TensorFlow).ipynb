{
 "cells": [
  {
   "cell_type": "markdown",
   "metadata": {},
   "source": [
    "# Deep Learning with TensorFlow\n",
    "\n",
    "Classical machine learning relies on using statistics to determine relationships between features and labels, and can be very effective for creating predictive models. However, a massive growth in the availability of data coupled with advances in the computing technology required to process it has led to the emergence of new machine learning techniques that mimic the way the brain processes information in a structure called an artificial neural network.\n",
    "\n",
    "TensorFlow is a framework for creating machine learning models, including deep neural networks (DNNs). In this example, we'll use Tensorflow to create a simple neural network that classifies penguins into species based on the length and depth of their culmen (bill), their flipper length, and their body mass.\n",
    "\n",
    "> **Citation**: The penguins dataset used in the this exercise is a subset of data collected and made available by [Dr. Kristen\n",
    "Gorman](https://www.uaf.edu/cfos/people/faculty/detail/kristen-gorman.php)\n",
    "and the [Palmer Station, Antarctica LTER](https://pal.lternet.edu/), a\n",
    "member of the [Long Term Ecological Research\n",
    "Network](https://lternet.edu/).\n",
    "\n",
    "## Explore the dataset\n",
    "\n",
    "Before we start using TensorFlow to create a model, let's load the data we need from the Palmer Islands penguins dataset, which contains observations of three different species of penguin.\n",
    "\n",
    "> **Note**: In reality, you can solve the penguin classification problem easily using classical machine learning techniques without the need for a deep learning model; but it's a useful, easy to understand dataset with which to demonstrate the principles of neural networks in this notebook."
   ]
  },
  {
   "cell_type": "code",
   "execution_count": 1,
   "metadata": {},
   "outputs": [
    {
     "name": "stderr",
     "output_type": "stream",
     "text": [
      "C:\\Users\\monika201103\\AppData\\Local\\Temp\\1\\ipykernel_2148\\1646010116.py:15: FutureWarning: The frame.append method is deprecated and will be removed from pandas in a future version. Use pandas.concat instead.\n",
      "  penguins = penguins.append(penguins)\n",
      "C:\\Users\\monika201103\\AppData\\Local\\Temp\\1\\ipykernel_2148\\1646010116.py:15: FutureWarning: The frame.append method is deprecated and will be removed from pandas in a future version. Use pandas.concat instead.\n",
      "  penguins = penguins.append(penguins)\n"
     ]
    },
    {
     "data": {
      "text/html": [
       "<div>\n",
       "<style scoped>\n",
       "    .dataframe tbody tr th:only-of-type {\n",
       "        vertical-align: middle;\n",
       "    }\n",
       "\n",
       "    .dataframe tbody tr th {\n",
       "        vertical-align: top;\n",
       "    }\n",
       "\n",
       "    .dataframe thead th {\n",
       "        text-align: right;\n",
       "    }\n",
       "</style>\n",
       "<table border=\"1\" class=\"dataframe\">\n",
       "  <thead>\n",
       "    <tr style=\"text-align: right;\">\n",
       "      <th></th>\n",
       "      <th>CulmenLength</th>\n",
       "      <th>CulmenDepth</th>\n",
       "      <th>FlipperLength</th>\n",
       "      <th>BodyMass</th>\n",
       "      <th>Species</th>\n",
       "    </tr>\n",
       "  </thead>\n",
       "  <tbody>\n",
       "    <tr>\n",
       "      <th>74</th>\n",
       "      <td>35.5</td>\n",
       "      <td>17.5</td>\n",
       "      <td>19.0</td>\n",
       "      <td>37.00</td>\n",
       "      <td>0</td>\n",
       "    </tr>\n",
       "    <tr>\n",
       "      <th>111</th>\n",
       "      <td>45.6</td>\n",
       "      <td>20.3</td>\n",
       "      <td>19.1</td>\n",
       "      <td>46.00</td>\n",
       "      <td>0</td>\n",
       "    </tr>\n",
       "    <tr>\n",
       "      <th>29</th>\n",
       "      <td>40.5</td>\n",
       "      <td>18.9</td>\n",
       "      <td>18.0</td>\n",
       "      <td>39.50</td>\n",
       "      <td>0</td>\n",
       "    </tr>\n",
       "    <tr>\n",
       "      <th>309</th>\n",
       "      <td>51.0</td>\n",
       "      <td>18.8</td>\n",
       "      <td>20.3</td>\n",
       "      <td>41.00</td>\n",
       "      <td>2</td>\n",
       "    </tr>\n",
       "    <tr>\n",
       "      <th>195</th>\n",
       "      <td>49.6</td>\n",
       "      <td>15.0</td>\n",
       "      <td>21.6</td>\n",
       "      <td>47.50</td>\n",
       "      <td>1</td>\n",
       "    </tr>\n",
       "    <tr>\n",
       "      <th>196</th>\n",
       "      <td>50.5</td>\n",
       "      <td>15.9</td>\n",
       "      <td>22.2</td>\n",
       "      <td>55.50</td>\n",
       "      <td>1</td>\n",
       "    </tr>\n",
       "    <tr>\n",
       "      <th>242</th>\n",
       "      <td>47.5</td>\n",
       "      <td>15.0</td>\n",
       "      <td>21.8</td>\n",
       "      <td>49.50</td>\n",
       "      <td>1</td>\n",
       "    </tr>\n",
       "    <tr>\n",
       "      <th>94</th>\n",
       "      <td>36.2</td>\n",
       "      <td>17.3</td>\n",
       "      <td>18.7</td>\n",
       "      <td>33.00</td>\n",
       "      <td>0</td>\n",
       "    </tr>\n",
       "    <tr>\n",
       "      <th>117</th>\n",
       "      <td>37.3</td>\n",
       "      <td>20.5</td>\n",
       "      <td>19.9</td>\n",
       "      <td>37.75</td>\n",
       "      <td>0</td>\n",
       "    </tr>\n",
       "    <tr>\n",
       "      <th>149</th>\n",
       "      <td>37.8</td>\n",
       "      <td>18.1</td>\n",
       "      <td>19.3</td>\n",
       "      <td>37.50</td>\n",
       "      <td>0</td>\n",
       "    </tr>\n",
       "  </tbody>\n",
       "</table>\n",
       "</div>"
      ],
      "text/plain": [
       "     CulmenLength  CulmenDepth  FlipperLength  BodyMass  Species\n",
       "74           35.5         17.5           19.0     37.00        0\n",
       "111          45.6         20.3           19.1     46.00        0\n",
       "29           40.5         18.9           18.0     39.50        0\n",
       "309          51.0         18.8           20.3     41.00        2\n",
       "195          49.6         15.0           21.6     47.50        1\n",
       "196          50.5         15.9           22.2     55.50        1\n",
       "242          47.5         15.0           21.8     49.50        1\n",
       "94           36.2         17.3           18.7     33.00        0\n",
       "117          37.3         20.5           19.9     37.75        0\n",
       "149          37.8         18.1           19.3     37.50        0"
      ]
     },
     "execution_count": 1,
     "metadata": {},
     "output_type": "execute_result"
    }
   ],
   "source": [
    "import pandas as pd\n",
    "\n",
    "# load the training dataset (excluding rows with null values)\n",
    "penguins = pd.read_csv('data/penguins.csv').dropna()\n",
    "\n",
    "# Deep Learning models work best when features are on similar scales\n",
    "# In a real solution, we'd implement some custom normalization for each feature, but to keep things simple\n",
    "# we'll just rescale the FlipperLength and BodyMass so they're on a similar scale to the bill measurements\n",
    "penguins['FlipperLength'] = penguins['FlipperLength']/10\n",
    "penguins['BodyMass'] = penguins['BodyMass']/100\n",
    "\n",
    "# The dataset is too small to be useful for deep learning\n",
    "# So we'll oversample it to increase its size\n",
    "for i in range(1,3):\n",
    "    penguins = penguins.append(penguins)\n",
    "\n",
    "# Display a random sample of 10 observations\n",
    "sample = penguins.sample(10)\n",
    "sample"
   ]
  },
  {
   "cell_type": "code",
   "execution_count": 2,
   "metadata": {},
   "outputs": [
    {
     "data": {
      "text/html": [
       "<div>\n",
       "<style scoped>\n",
       "    .dataframe tbody tr th:only-of-type {\n",
       "        vertical-align: middle;\n",
       "    }\n",
       "\n",
       "    .dataframe tbody tr th {\n",
       "        vertical-align: top;\n",
       "    }\n",
       "\n",
       "    .dataframe thead th {\n",
       "        text-align: right;\n",
       "    }\n",
       "</style>\n",
       "<table border=\"1\" class=\"dataframe\">\n",
       "  <thead>\n",
       "    <tr style=\"text-align: right;\">\n",
       "      <th></th>\n",
       "      <th>CulmenLength</th>\n",
       "      <th>CulmenDepth</th>\n",
       "      <th>FlipperLength</th>\n",
       "      <th>BodyMass</th>\n",
       "      <th>Species</th>\n",
       "    </tr>\n",
       "  </thead>\n",
       "  <tbody>\n",
       "    <tr>\n",
       "      <th>0</th>\n",
       "      <td>39.1</td>\n",
       "      <td>18.7</td>\n",
       "      <td>18.1</td>\n",
       "      <td>37.5</td>\n",
       "      <td>0</td>\n",
       "    </tr>\n",
       "    <tr>\n",
       "      <th>1</th>\n",
       "      <td>39.5</td>\n",
       "      <td>17.4</td>\n",
       "      <td>18.6</td>\n",
       "      <td>38.0</td>\n",
       "      <td>0</td>\n",
       "    </tr>\n",
       "    <tr>\n",
       "      <th>2</th>\n",
       "      <td>40.3</td>\n",
       "      <td>18.0</td>\n",
       "      <td>19.5</td>\n",
       "      <td>32.5</td>\n",
       "      <td>0</td>\n",
       "    </tr>\n",
       "    <tr>\n",
       "      <th>4</th>\n",
       "      <td>36.7</td>\n",
       "      <td>19.3</td>\n",
       "      <td>19.3</td>\n",
       "      <td>34.5</td>\n",
       "      <td>0</td>\n",
       "    </tr>\n",
       "    <tr>\n",
       "      <th>5</th>\n",
       "      <td>39.3</td>\n",
       "      <td>20.6</td>\n",
       "      <td>19.0</td>\n",
       "      <td>36.5</td>\n",
       "      <td>0</td>\n",
       "    </tr>\n",
       "  </tbody>\n",
       "</table>\n",
       "</div>"
      ],
      "text/plain": [
       "   CulmenLength  CulmenDepth  FlipperLength  BodyMass  Species\n",
       "0          39.1         18.7           18.1      37.5        0\n",
       "1          39.5         17.4           18.6      38.0        0\n",
       "2          40.3         18.0           19.5      32.5        0\n",
       "4          36.7         19.3           19.3      34.5        0\n",
       "5          39.3         20.6           19.0      36.5        0"
      ]
     },
     "execution_count": 2,
     "metadata": {},
     "output_type": "execute_result"
    }
   ],
   "source": [
    "penguins.head()"
   ]
  },
  {
   "cell_type": "code",
   "execution_count": 3,
   "metadata": {},
   "outputs": [
    {
     "data": {
      "text/html": [
       "<div>\n",
       "<style scoped>\n",
       "    .dataframe tbody tr th:only-of-type {\n",
       "        vertical-align: middle;\n",
       "    }\n",
       "\n",
       "    .dataframe tbody tr th {\n",
       "        vertical-align: top;\n",
       "    }\n",
       "\n",
       "    .dataframe thead th {\n",
       "        text-align: right;\n",
       "    }\n",
       "</style>\n",
       "<table border=\"1\" class=\"dataframe\">\n",
       "  <thead>\n",
       "    <tr style=\"text-align: right;\">\n",
       "      <th></th>\n",
       "      <th>CulmenLength</th>\n",
       "      <th>CulmenDepth</th>\n",
       "      <th>FlipperLength</th>\n",
       "      <th>BodyMass</th>\n",
       "      <th>Species</th>\n",
       "    </tr>\n",
       "  </thead>\n",
       "  <tbody>\n",
       "    <tr>\n",
       "      <th>342</th>\n",
       "      <td>50.8</td>\n",
       "      <td>19.0</td>\n",
       "      <td>21.0</td>\n",
       "      <td>41.00</td>\n",
       "      <td>2</td>\n",
       "    </tr>\n",
       "    <tr>\n",
       "      <th>343</th>\n",
       "      <td>50.2</td>\n",
       "      <td>18.7</td>\n",
       "      <td>19.8</td>\n",
       "      <td>37.75</td>\n",
       "      <td>2</td>\n",
       "    </tr>\n",
       "  </tbody>\n",
       "</table>\n",
       "</div>"
      ],
      "text/plain": [
       "     CulmenLength  CulmenDepth  FlipperLength  BodyMass  Species\n",
       "342          50.8         19.0           21.0     41.00        2\n",
       "343          50.2         18.7           19.8     37.75        2"
      ]
     },
     "execution_count": 3,
     "metadata": {},
     "output_type": "execute_result"
    }
   ],
   "source": [
    "penguins.tail(2)"
   ]
  },
  {
   "cell_type": "markdown",
   "metadata": {},
   "source": [
    "The **Species** column is the label our model will predict. Each label value represents a class of penguin species, encoded as 0, 1, or 2. The following code shows the actual species to which these class labels corrrespond."
   ]
  },
  {
   "cell_type": "code",
   "execution_count": 5,
   "metadata": {
    "tags": []
   },
   "outputs": [
    {
     "name": "stdout",
     "output_type": "stream",
     "text": [
      "['CulmenLength' 'CulmenDepth' 'FlipperLength' 'BodyMass' 'Species'] SpeciesName\n",
      "[ 37.6 17.0 18.5 36.0 0 ] Adelie\n",
      "[ 40.7 17.0 19.0 37.25 0 ] Adelie\n",
      "[ 35.7 17.0 18.9 33.5 0 ] Adelie\n",
      "[ 38.1 17.6 18.7 34.25 0 ] Adelie\n",
      "[ 46.5 14.5 21.3 44.0 1 ] Gentoo\n",
      "[ 52.0 19.0 19.7 41.5 2 ] Chinstrap\n",
      "[ 41.7 14.7 21.0 47.0 1 ] Gentoo\n",
      "[ 41.1 18.2 19.2 40.5 0 ] Adelie\n",
      "[ 36.7 18.8 18.7 38.0 0 ] Adelie\n",
      "[ 46.2 14.9 22.1 53.0 1 ] Gentoo\n"
     ]
    }
   ],
   "source": [
    "penguin_classes = ['Adelie', 'Gentoo', 'Chinstrap']\n",
    "print(sample.columns[0:5].values, 'SpeciesName')\n",
    "for index, row in penguins.sample(10).iterrows():\n",
    "    print('[',row[0], row[1], row[2],row[3], int(row[4]), ']',penguin_classes[int(row[-1])])"
   ]
  },
  {
   "cell_type": "markdown",
   "metadata": {},
   "source": [
    "As is common in a supervised learning problem, we'll split the dataset into a set of records with which to train the model, and a smaller set with which to validate the trained model."
   ]
  },
  {
   "cell_type": "code",
   "execution_count": 9,
   "metadata": {
    "tags": []
   },
   "outputs": [
    {
     "name": "stdout",
     "output_type": "stream",
     "text": [
      "Training Set: 957, Test Set: 411 \n",
      "\n",
      "Sample of features and labels:\n",
      "[51.1 16.5 22.5 52.5] 1 (Gentoo)\n",
      "[50.7 19.7 20.3 40.5] 2 (Chinstrap)\n",
      "[49.5 16.2 22.9 58. ] 1 (Gentoo)\n",
      "[39.3 20.6 19.  36.5] 0 (Adelie)\n",
      "[42.5 20.7 19.7 45. ] 0 (Adelie)\n",
      "[50.  15.3 22.  55.5] 1 (Gentoo)\n",
      "[50.2  18.7  19.8  37.75] 2 (Chinstrap)\n",
      "[50.7 19.7 20.3 40.5] 2 (Chinstrap)\n",
      "[49.1  14.5  21.2  46.25] 1 (Gentoo)\n",
      "[43.2 16.6 18.7 29. ] 2 (Chinstrap)\n",
      "[38.8  17.6  19.1  32.75] 0 (Adelie)\n",
      "[37.8 17.1 18.6 33. ] 0 (Adelie)\n",
      "[45.8 14.2 21.9 47. ] 1 (Gentoo)\n",
      "[43.8 13.9 20.8 43. ] 1 (Gentoo)\n",
      "[36.  17.1 18.7 37. ] 0 (Adelie)\n",
      "[43.3 13.4 20.9 44. ] 1 (Gentoo)\n",
      "[36.  18.5 18.6 31. ] 0 (Adelie)\n",
      "[41.1  19.   18.2  34.25] 0 (Adelie)\n",
      "[33.1 16.1 17.8 29. ] 0 (Adelie)\n",
      "[40.9 13.7 21.4 46.5] 1 (Gentoo)\n",
      "[45.2 17.8 19.8 39.5] 2 (Chinstrap)\n",
      "[48.4 14.6 21.3 58.5] 1 (Gentoo)\n",
      "[43.6 13.9 21.7 49. ] 1 (Gentoo)\n",
      "[38.5  17.9  19.   33.25] 0 (Adelie)\n"
     ]
    }
   ],
   "source": [
    "from sklearn.model_selection import train_test_split\n",
    "\n",
    "features = ['CulmenLength','CulmenDepth','FlipperLength','BodyMass']\n",
    "label = 'Species'\n",
    "   \n",
    "# Split data 70%-30% into training set and test set\n",
    "x_train, x_test, y_train, y_test = train_test_split(penguins[features].values,\n",
    "                                                    penguins[label].values,\n",
    "                                                    test_size=0.30,\n",
    "                                                    random_state=0)\n",
    "\n",
    "print ('Training Set: %d, Test Set: %d \\n' % (len(x_train), len(x_test)))\n",
    "print(\"Sample of features and labels:\")\n",
    "\n",
    "# Take a look at the first 25 training features and corresponding labels\n",
    "for n in range(0,24):\n",
    "    print(x_train[n], y_train[n], '(' + penguin_classes[y_train[n]] + ')')"
   ]
  },
  {
   "cell_type": "markdown",
   "metadata": {},
   "source": [
    "The *features* are the measurements for each penguin observation, and the *label* is a numeric value that indicates the species of penguin that the observation represents (Adelie, Gentoo, or Chinstrap).\n",
    "\n",
    "## Install and import TensorFlow libraries\n",
    "\n",
    "Since we plan to use TensorFlow to create our penguin classifier, we'll need to run the following two cells to install and import the libraries we intend to use.\n",
    "\n",
    "> **Note** *Keras* is an abstraction layer over the base TensorFlow API. In most common machine learning scenarios, you can use Keras to simplify your code."
   ]
  },
  {
   "cell_type": "code",
   "execution_count": null,
   "metadata": {},
   "outputs": [],
   "source": [
    "!pip install --upgrade tensorflow"
   ]
  },
  {
   "cell_type": "code",
   "execution_count": 10,
   "metadata": {
    "tags": []
   },
   "outputs": [],
   "source": [
    "import tensorflow"
   ]
  },
  {
   "cell_type": "code",
   "execution_count": 11,
   "metadata": {
    "tags": []
   },
   "outputs": [
    {
     "name": "stdout",
     "output_type": "stream",
     "text": [
      "Libraries imported.\n",
      "TensorFlow version: 2.14.0\n"
     ]
    }
   ],
   "source": [
    "from tensorflow import keras\n",
    "from tensorflow.keras import models\n",
    "from tensorflow.keras.models import Sequential\n",
    "from tensorflow.keras.layers import Dense\n",
    "from tensorflow.keras import utils\n",
    "from tensorflow.keras import optimizers\n",
    "\n",
    "# Set random seed for reproducability\n",
    "tensorflow.random.set_seed(0)\n",
    "\n",
    "print(\"Libraries imported.\")\n",
    "#print('Keras version:',keras.__version__)\n",
    "print('TensorFlow version:',tensorflow.__version__)"
   ]
  },
  {
   "cell_type": "code",
   "execution_count": 12,
   "metadata": {
    "tags": []
   },
   "outputs": [
    {
     "name": "stdout",
     "output_type": "stream",
     "text": [
      "Ready...\n"
     ]
    }
   ],
   "source": [
    "# Set data types for float features\n",
    "x_train = x_train.astype('float32')\n",
    "x_test = x_test.astype('float32')\n",
    "\n",
    "# Set data types for categorical labels\n",
    "y_train = utils.to_categorical(y_train)\n",
    "y_test = utils.to_categorical(y_test)\n",
    "print('Ready...')"
   ]
  },
  {
   "cell_type": "markdown",
   "metadata": {
    "tags": []
   },
   "source": [
    "## Define a neural network\n",
    "\n",
    "Now we're ready to define our neural network. In this case, we'll create a network that consists of 3 fully-connected layers:\n",
    "* An input layer that receives an input value for each feature (in this case, the four penguin measurements) and applies a *ReLU* activation function.\n",
    "* A hidden layer that receives ten inputs and applies a *ReLU* activation function.\n",
    "* An output layer that uses a *SoftMax* activation function to generate an output for each penguin species (which represent the classification probabilities for each of the three possible penguin species). Softmax functions produce a vector with probability values that sum to 1."
   ]
  },
  {
   "cell_type": "code",
   "execution_count": 13,
   "metadata": {
    "tags": []
   },
   "outputs": [
    {
     "name": "stdout",
     "output_type": "stream",
     "text": [
      "Model: \"sequential\"\n",
      "_________________________________________________________________\n",
      " Layer (type)                Output Shape              Param #   \n",
      "=================================================================\n",
      " dense (Dense)               (None, 10)                50        \n",
      "                                                                 \n",
      " dense_1 (Dense)             (None, 10)                110       \n",
      "                                                                 \n",
      " dense_2 (Dense)             (None, 3)                 33        \n",
      "                                                                 \n",
      "=================================================================\n",
      "Total params: 193 (772.00 Byte)\n",
      "Trainable params: 193 (772.00 Byte)\n",
      "Non-trainable params: 0 (0.00 Byte)\n",
      "_________________________________________________________________\n",
      "None\n"
     ]
    }
   ],
   "source": [
    "# Define a classifier network\n",
    "hl = 10 # Number of hidden layer nodes\n",
    "\n",
    "model = Sequential()\n",
    "model.add(Dense(hl, input_dim=len(features), activation='relu'))\n",
    "model.add(Dense(hl, input_dim=hl, activation='relu'))\n",
    "model.add(Dense(len(penguin_classes), input_dim=hl, activation='softmax'))\n",
    "\n",
    "print(model.summary())"
   ]
  },
  {
   "cell_type": "markdown",
   "metadata": {},
   "source": [
    "## Train the model\n",
    "\n",
    "To train the model, we need to repeatedly feed the training values forward through the network, use a loss function to calculate the loss, use an optimizer to backpropagate the weight and bias value adjustments, and validate the model using the test data we withheld.\n",
    "\n",
    "To do this, we'll apply an Adam optimizer to a categorical cross-entropy loss function iteratively over 50 epochs."
   ]
  },
  {
   "cell_type": "code",
   "execution_count": 14,
   "metadata": {
    "scrolled": true,
    "tags": []
   },
   "outputs": [
    {
     "name": "stderr",
     "output_type": "stream",
     "text": [
      "WARNING:absl:`lr` is deprecated in Keras optimizer, please use `learning_rate` or use the legacy optimizer, e.g.,tf.keras.optimizers.legacy.Adam.\n"
     ]
    },
    {
     "name": "stdout",
     "output_type": "stream",
     "text": [
      "Epoch 1/50\n",
      "96/96 [==============================] - 1s 5ms/step - loss: 1.1029 - accuracy: 0.5643 - val_loss: 1.0060 - val_accuracy: 0.5693\n",
      "Epoch 2/50\n",
      "96/96 [==============================] - 0s 3ms/step - loss: 0.9738 - accuracy: 0.5517 - val_loss: 0.9117 - val_accuracy: 0.5718\n",
      "Epoch 3/50\n",
      "96/96 [==============================] - 0s 3ms/step - loss: 0.8742 - accuracy: 0.5883 - val_loss: 0.8213 - val_accuracy: 0.6010\n",
      "Epoch 4/50\n",
      "96/96 [==============================] - 0s 3ms/step - loss: 0.7962 - accuracy: 0.6092 - val_loss: 0.7541 - val_accuracy: 0.6107\n",
      "Epoch 5/50\n",
      "96/96 [==============================] - 0s 3ms/step - loss: 0.7340 - accuracy: 0.6029 - val_loss: 0.7284 - val_accuracy: 0.5839\n",
      "Epoch 6/50\n",
      "96/96 [==============================] - 0s 3ms/step - loss: 0.6762 - accuracy: 0.6061 - val_loss: 0.6537 - val_accuracy: 0.6083\n",
      "Epoch 7/50\n",
      "96/96 [==============================] - 0s 3ms/step - loss: 0.6176 - accuracy: 0.7252 - val_loss: 0.5883 - val_accuracy: 0.7324\n",
      "Epoch 8/50\n",
      "96/96 [==============================] - 0s 3ms/step - loss: 0.5613 - accuracy: 0.7628 - val_loss: 0.5340 - val_accuracy: 0.7932\n",
      "Epoch 9/50\n",
      "96/96 [==============================] - 0s 4ms/step - loss: 0.5160 - accuracy: 0.7900 - val_loss: 0.4938 - val_accuracy: 0.8078\n",
      "Epoch 10/50\n",
      "96/96 [==============================] - 0s 3ms/step - loss: 0.4759 - accuracy: 0.8056 - val_loss: 0.4540 - val_accuracy: 0.8491\n",
      "Epoch 11/50\n",
      "96/96 [==============================] - 0s 3ms/step - loss: 0.4462 - accuracy: 0.8359 - val_loss: 0.4294 - val_accuracy: 0.8078\n",
      "Epoch 12/50\n",
      "96/96 [==============================] - 0s 3ms/step - loss: 0.3981 - accuracy: 0.8485 - val_loss: 0.3840 - val_accuracy: 0.8345\n",
      "Epoch 13/50\n",
      "96/96 [==============================] - 0s 3ms/step - loss: 0.3545 - accuracy: 0.8673 - val_loss: 0.3399 - val_accuracy: 0.8686\n",
      "Epoch 14/50\n",
      "96/96 [==============================] - 0s 4ms/step - loss: 0.3234 - accuracy: 0.8851 - val_loss: 0.3434 - val_accuracy: 0.8637\n",
      "Epoch 15/50\n",
      "96/96 [==============================] - 0s 3ms/step - loss: 0.3013 - accuracy: 0.8840 - val_loss: 0.3165 - val_accuracy: 0.8686\n",
      "Epoch 16/50\n",
      "96/96 [==============================] - 0s 3ms/step - loss: 0.2779 - accuracy: 0.8934 - val_loss: 0.2930 - val_accuracy: 0.8856\n",
      "Epoch 17/50\n",
      "96/96 [==============================] - 0s 3ms/step - loss: 0.2529 - accuracy: 0.9007 - val_loss: 0.2582 - val_accuracy: 0.8954\n",
      "Epoch 18/50\n",
      "96/96 [==============================] - 0s 3ms/step - loss: 0.2444 - accuracy: 0.9049 - val_loss: 0.2479 - val_accuracy: 0.9027\n",
      "Epoch 19/50\n",
      "96/96 [==============================] - 0s 3ms/step - loss: 0.2263 - accuracy: 0.9091 - val_loss: 0.2463 - val_accuracy: 0.9100\n",
      "Epoch 20/50\n",
      "96/96 [==============================] - 0s 4ms/step - loss: 0.2154 - accuracy: 0.9175 - val_loss: 0.2421 - val_accuracy: 0.9124\n",
      "Epoch 21/50\n",
      "96/96 [==============================] - 0s 3ms/step - loss: 0.2103 - accuracy: 0.9248 - val_loss: 0.2271 - val_accuracy: 0.9294\n",
      "Epoch 22/50\n",
      "96/96 [==============================] - 0s 5ms/step - loss: 0.1912 - accuracy: 0.9269 - val_loss: 0.2063 - val_accuracy: 0.9343\n",
      "Epoch 23/50\n",
      "96/96 [==============================] - 0s 4ms/step - loss: 0.1838 - accuracy: 0.9373 - val_loss: 0.1997 - val_accuracy: 0.9440\n",
      "Epoch 24/50\n",
      "96/96 [==============================] - 0s 3ms/step - loss: 0.1827 - accuracy: 0.9289 - val_loss: 0.1779 - val_accuracy: 0.9440\n",
      "Epoch 25/50\n",
      "96/96 [==============================] - 0s 2ms/step - loss: 0.1673 - accuracy: 0.9415 - val_loss: 0.1749 - val_accuracy: 0.9562\n",
      "Epoch 26/50\n",
      "96/96 [==============================] - 0s 3ms/step - loss: 0.1619 - accuracy: 0.9488 - val_loss: 0.1733 - val_accuracy: 0.9586\n",
      "Epoch 27/50\n",
      "96/96 [==============================] - 0s 3ms/step - loss: 0.1528 - accuracy: 0.9488 - val_loss: 0.1580 - val_accuracy: 0.9513\n",
      "Epoch 28/50\n",
      "96/96 [==============================] - 0s 3ms/step - loss: 0.1467 - accuracy: 0.9509 - val_loss: 0.1607 - val_accuracy: 0.9659\n",
      "Epoch 29/50\n",
      "96/96 [==============================] - 0s 3ms/step - loss: 0.1399 - accuracy: 0.9530 - val_loss: 0.1673 - val_accuracy: 0.9562\n",
      "Epoch 30/50\n",
      "96/96 [==============================] - 0s 3ms/step - loss: 0.1388 - accuracy: 0.9592 - val_loss: 0.1976 - val_accuracy: 0.9246\n",
      "Epoch 31/50\n",
      "96/96 [==============================] - 0s 3ms/step - loss: 0.1313 - accuracy: 0.9592 - val_loss: 0.1320 - val_accuracy: 0.9684\n",
      "Epoch 32/50\n",
      "96/96 [==============================] - 0s 2ms/step - loss: 0.1259 - accuracy: 0.9613 - val_loss: 0.1313 - val_accuracy: 0.9659\n",
      "Epoch 33/50\n",
      "96/96 [==============================] - 0s 2ms/step - loss: 0.1263 - accuracy: 0.9603 - val_loss: 0.1472 - val_accuracy: 0.9562\n",
      "Epoch 34/50\n",
      "96/96 [==============================] - 0s 3ms/step - loss: 0.1165 - accuracy: 0.9697 - val_loss: 0.1247 - val_accuracy: 0.9684\n",
      "Epoch 35/50\n",
      "96/96 [==============================] - 0s 2ms/step - loss: 0.1129 - accuracy: 0.9634 - val_loss: 0.1127 - val_accuracy: 0.9684\n",
      "Epoch 36/50\n",
      "96/96 [==============================] - 0s 2ms/step - loss: 0.1104 - accuracy: 0.9687 - val_loss: 0.1291 - val_accuracy: 0.9659\n",
      "Epoch 37/50\n",
      "96/96 [==============================] - 0s 3ms/step - loss: 0.1075 - accuracy: 0.9676 - val_loss: 0.1220 - val_accuracy: 0.9659\n",
      "Epoch 38/50\n",
      "96/96 [==============================] - 0s 3ms/step - loss: 0.1057 - accuracy: 0.9676 - val_loss: 0.1129 - val_accuracy: 0.9684\n",
      "Epoch 39/50\n",
      "96/96 [==============================] - 0s 4ms/step - loss: 0.1041 - accuracy: 0.9645 - val_loss: 0.1166 - val_accuracy: 0.9659\n",
      "Epoch 40/50\n",
      "96/96 [==============================] - 0s 3ms/step - loss: 0.1001 - accuracy: 0.9655 - val_loss: 0.1098 - val_accuracy: 0.9684\n",
      "Epoch 41/50\n",
      "96/96 [==============================] - 0s 3ms/step - loss: 0.1006 - accuracy: 0.9655 - val_loss: 0.1011 - val_accuracy: 0.9708\n",
      "Epoch 42/50\n",
      "96/96 [==============================] - 0s 3ms/step - loss: 0.0957 - accuracy: 0.9645 - val_loss: 0.1040 - val_accuracy: 0.9708\n",
      "Epoch 43/50\n",
      "96/96 [==============================] - 0s 3ms/step - loss: 0.0924 - accuracy: 0.9697 - val_loss: 0.0920 - val_accuracy: 0.9708\n",
      "Epoch 44/50\n",
      "96/96 [==============================] - 0s 2ms/step - loss: 0.0888 - accuracy: 0.9749 - val_loss: 0.0977 - val_accuracy: 0.9708\n",
      "Epoch 45/50\n",
      "96/96 [==============================] - 0s 3ms/step - loss: 0.0885 - accuracy: 0.9707 - val_loss: 0.0931 - val_accuracy: 0.9708\n",
      "Epoch 46/50\n",
      "96/96 [==============================] - 0s 4ms/step - loss: 0.0854 - accuracy: 0.9718 - val_loss: 0.0994 - val_accuracy: 0.9659\n",
      "Epoch 47/50\n",
      "96/96 [==============================] - 0s 4ms/step - loss: 0.0840 - accuracy: 0.9728 - val_loss: 0.1049 - val_accuracy: 0.9635\n",
      "Epoch 48/50\n",
      "96/96 [==============================] - 0s 4ms/step - loss: 0.0867 - accuracy: 0.9666 - val_loss: 0.1036 - val_accuracy: 0.9635\n",
      "Epoch 49/50\n",
      "96/96 [==============================] - 0s 4ms/step - loss: 0.0824 - accuracy: 0.9728 - val_loss: 0.1059 - val_accuracy: 0.9635\n",
      "Epoch 50/50\n",
      "96/96 [==============================] - 0s 3ms/step - loss: 0.0808 - accuracy: 0.9718 - val_loss: 0.0810 - val_accuracy: 0.9708\n"
     ]
    }
   ],
   "source": [
    "#hyper-parameters for optimizer\n",
    "learning_rate = 0.001\n",
    "opt = optimizers.Adam(lr=learning_rate)\n",
    "\n",
    "model.compile(loss='categorical_crossentropy',\n",
    "              optimizer=opt,\n",
    "              metrics=['accuracy'])\n",
    "\n",
    "# Train the model over 50 epochs using 10-observation batches and using the test holdout dataset for validation\n",
    "num_epochs = 50\n",
    "history = model.fit(x_train, y_train, epochs=num_epochs, batch_size=10, validation_data=(x_test, y_test))"
   ]
  },
  {
   "cell_type": "markdown",
   "metadata": {},
   "source": [
    "While the training process is running, let's try to understand what's happening:\n",
    "\n",
    "1. In each *epoch*, the full set of training data is passed forward through the network. There are four features for each observation, and four corresponding nodes in the input layer - so the features for each observation are passed as a vector of four values to that layer. However, for efficiency, the feature vectors are grouped into batches; so actually a matrix of multiple feature vectors is fed in each time.\n",
    "2. The matrix of feature values is processed by a function that performs a weighted sum using initialized weights and bias values. The result of this function is then processed by the activation function for the input layer to constrain the values passed to the nodes in the next layer.\n",
    "3. The weighted sum and activation functions are repeated in each layer. Note that the functions operate on vectors and matrices rather than individual scalar values. In other words, the forward pass is essentially a series of nested linear algebra functions. This is the reason data scientists prefer to use computers with graphical processing units (GPUs), since these are optimized for matrix and vector calculations.\n",
    "4. In the final layer of the network, the output vectors contain a probability value for each possible class (in this case, classes 0, 1, and 2). This vector is processed by a *loss function* to determine how far the values calculated by the network are from the actual values - so for example, suppose the output for a Gentoo penguin (class 1) observation is \\[0.3, 0.4, 0.3\\]. The correct prediction should be \\[0.0, 1.0, 0.0\\], so the variance between the predicted and actual values (how far away the each predicted value is from what it should be) is \\[0.3, 0.6, 0.3\\]. This variance is aggregated for each batch and maintained as a running aggregate to calculate the overall level of error (*loss*) incurred by the training data for the epoch. The accuracy (proportion of correct predictions based on the highest probability value in the output vector) for the training data is also calculated.\n",
    "5. At the end of each epoch, the validation data is passed through the network, and its loss and accuracy are also calculated. It's important to do this because it enables us to compare the performance of the model using data on which it was not trained, helping us determine if it will generalize well for new data or if it's *overfitted* to the training data.\n",
    "6. After all the data has been passed forward through the network, the output of the loss function for the *training* data (but <u>not</u> the *validation* data) is passed to the opimizer. The precise details of how the optimizer processes the loss vary depending on the specific optimization algorithm being used; but fundamentally you can think of the entire network, from the input layer to the loss function as being one big nested (*composite*) function. The optimizer applies some differential calculus to calculate *partial derivatives* for the function with respect to each weight and bias value that was used in the network. It's possible to do this efficiently for a nested function due to something called the *chain rule*, which enables you to determine the derivative of a composite function from the derivatives of its inner function and outer functions. You don't really need to worry about the details of the math here (the optimizer does it for you), but the end result is that the partial derivatives tell us about the slope (or *gradient*) of the loss function with respect to each weight and bias value - in other words, we can determine whether to increase or decrease the weight and bias values in order to decrease the loss.\n",
    "7. Having determined in which direction to adjust the weights and biases, the optimizer uses the *learning rate* to determine by how much to adjust them; and then works backwards through the network in a process called *backpropagation* to assign new values to the weights and biases in each layer.\n",
    "8. Now the next epoch repeats the whole training, validation, and backpropagation process starting with the revised weights and biases from the previous epoch - which hopefully will result in a lower level of loss.\n",
    "9. The process continues like this for 50 epochs.\n",
    "\n",
    "## Review training and validation loss\n",
    "\n",
    "After training is complete, we can examine the loss metrics we recorded while training and validating the model. We're really looking for two things:\n",
    "* The loss should reduce with each epoch, showing that the model is learning the right weights and biases to predict the correct labels.\n",
    "* The training loss and validation loss should follow a similar trend, showing that the model is not overfitting to the training data.\n",
    "\n",
    "Let's plot the loss metrics and see:"
   ]
  },
  {
   "cell_type": "markdown",
   "metadata": {},
   "source": [
    "conda update matplotlib"
   ]
  },
  {
   "cell_type": "markdown",
   "metadata": {},
   "source": [
    "conda install -f matplotlib"
   ]
  },
  {
   "cell_type": "code",
   "execution_count": 15,
   "metadata": {},
   "outputs": [
    {
     "data": {
      "image/png": "[encoded data removed]",
      "text/plain": [
       "<Figure size 640x480 with 1 Axes>"
      ]
     },
     "metadata": {},
     "output_type": "display_data"
    }
   ],
   "source": [
    "%matplotlib inline\n",
    "from matplotlib import pyplot as plt\n",
    "\n",
    "epoch_nums = range(1,num_epochs+1)\n",
    "training_loss = history.history[\"loss\"]\n",
    "validation_loss = history.history[\"val_loss\"]\n",
    "plt.plot(epoch_nums, training_loss)\n",
    "plt.plot(epoch_nums, validation_loss)\n",
    "plt.xlabel('epoch')\n",
    "plt.ylabel('loss')\n",
    "plt.legend(['training', 'validation'], loc='upper right')\n",
    "plt.show()"
   ]
  },
  {
   "cell_type": "markdown",
   "metadata": {},
   "source": [
    "## View the learned weights and biases\n",
    "\n",
    "The trained model consists of the final weights and biases that were determined by the optimizer during training. Based on our network model we should expect the following values for each layer:\n",
    "* Layer 1: There are four input values going to ten output nodes, so there should be 4 x 10 weights and 10 bias values.\n",
    "* Layer 2: There are ten input values going to ten output nodes, so there should be 10 x 10 weights and 10 bias values.\n",
    "* Layer 3: There are ten input values going to three output nodes, so there should be 10 x 3 weights and 3 bias values."
   ]
  },
  {
   "cell_type": "code",
   "execution_count": 16,
   "metadata": {
    "tags": []
   },
   "outputs": [
    {
     "name": "stdout",
     "output_type": "stream",
     "text": [
      "------------\n",
      "Weights:\n",
      " [[-0.58166486  0.32236844  0.2536112  -0.64258343  0.09901302 -0.31785813\n",
      "  -0.28770116 -0.28008404 -0.4589314  -0.24523416]\n",
      " [ 0.24618377 -0.6468465   0.15119779 -0.04101229  0.50215244 -0.11018801\n",
      "   0.15174973  0.5075216   0.52251077 -0.5472998 ]\n",
      " [ 0.4078843  -0.12624413 -0.5230611  -0.06110609 -0.21853094 -0.62534827\n",
      "  -0.6536719  -0.02882749  0.46160793  0.07539833]\n",
      " [ 0.39009383 -0.19472101 -0.56621814  0.14211243 -0.16208927 -0.08186042\n",
      "  -0.40568963 -0.52541405 -0.5016199  -0.41083533]] \n",
      "Biases:\n",
      " [0.32955354 0.         0.         0.         0.05785352 0.\n",
      " 0.         0.         0.         0.        ]\n",
      "------------\n",
      "Weights:\n",
      " [[-0.3935137   0.03708414  0.12785104  0.87485176 -0.35765272 -0.32868624\n",
      "  -0.3743134  -0.00686377 -0.98131377  0.04770512]\n",
      " [-0.39431536  0.03609276  0.5310242  -0.51314753  0.14920205  0.4793234\n",
      "  -0.23650563  0.13340753  0.4241621  -0.2581596 ]\n",
      " [ 0.07242185  0.11731488  0.13361359  0.15964288  0.2176345  -0.4712208\n",
      "  -0.45173925 -0.01330268  0.48158252 -0.2905242 ]\n",
      " [ 0.17849642 -0.28035095  0.06642932  0.54552436  0.10535777  0.19596511\n",
      "  -0.07285541  0.48051524  0.53832746 -0.11295158]\n",
      " [ 0.51286983  1.0243847   1.2597274  -0.07280737 -0.0103783  -0.00306405\n",
      "  -0.07932481 -0.47598064  0.428614    1.045136  ]\n",
      " [ 0.13747013 -0.12458846  0.19268173  0.48815548  0.33771843  0.28750855\n",
      "   0.01643556  0.49671042 -0.5160714  -0.41982505]\n",
      " [-0.26243347 -0.09042147 -0.34358495 -0.00684994 -0.07022628 -0.37831828\n",
      "  -0.03612894  0.32001227  0.08843458 -0.48909622]\n",
      " [-0.296888   -0.19302556  0.03766292 -0.34673107  0.4499852  -0.19022682\n",
      "  -0.0374648  -0.42488322  0.34119427  0.25950032]\n",
      " [ 0.10368586 -0.13329065  0.15266198  0.43790448  0.20154297  0.47761607\n",
      "  -0.49102852  0.12105149 -0.423715   -0.36094403]\n",
      " [-0.12985411  0.23485148 -0.42959034  0.49893188 -0.36751494  0.33789307\n",
      "   0.04923946 -0.37577027  0.10669279 -0.36035407]] \n",
      "Biases:\n",
      " [ 0.20188767 -0.19229259 -0.5998448   0.57777315  0.         -0.01821304\n",
      "  0.         -0.0192201  -0.08095654 -0.22549713]\n",
      "------------\n",
      "Weights:\n",
      " [[-0.6124692   0.05959534  1.0623255 ]\n",
      " [-0.40795428 -1.8716049  -0.01906154]\n",
      " [ 0.6542574  -0.87997437  0.60302746]\n",
      " [-0.3405363   0.43803927 -1.1518764 ]\n",
      " [-0.02007276 -0.35844144 -0.5490235 ]\n",
      " [-0.56907046 -0.20952232 -0.6177831 ]\n",
      " [ 0.47701347 -0.5287953   0.1606484 ]\n",
      " [ 0.2956839  -0.53702635  0.5706021 ]\n",
      " [-0.9985151  -0.22040813  0.86532575]\n",
      " [ 0.874488   -1.2551551  -0.09115609]] \n",
      "Biases:\n",
      " [-0.435688   0.9093166 -0.3893579]\n"
     ]
    }
   ],
   "source": [
    "for layer in model.layers:\n",
    "    weights = layer.get_weights()[0]\n",
    "    biases = layer.get_weights()[1]\n",
    "    print('------------\\nWeights:\\n',weights,'\\nBiases:\\n', biases)"
   ]
  },
  {
   "cell_type": "markdown",
   "metadata": {},
   "source": [
    "## Evaluate model performance\n",
    "\n",
    "So, is the model any good? The raw accuracy reported from the validation data would seem to indicate that it predicts pretty well; but it's typically useful to dig a little deeper and compare the predictions for each possible class. A common way to visualize the performance of a classification model is to create a *confusion matrix* that shows a crosstab of correct and incorrect predictions for each class."
   ]
  },
  {
   "cell_type": "code",
   "execution_count": 17,
   "metadata": {},
   "outputs": [
    {
     "name": "stdout",
     "output_type": "stream",
     "text": [
      "13/13 [==============================] - 0s 2ms/step\n"
     ]
    },
    {
     "data": {
      "image/png": "[encoded data removed]",
      "text/plain": [
       "<Figure size 640x480 with 2 Axes>"
      ]
     },
     "metadata": {},
     "output_type": "display_data"
    }
   ],
   "source": [
    "# Tensorflow doesn't have a built-in confusion matrix metric, so we'll use SciKit-Learn\n",
    "import numpy as np\n",
    "from sklearn.metrics import confusion_matrix\n",
    "import matplotlib.pyplot as plt\n",
    "%matplotlib inline\n",
    "\n",
    "\n",
    "class_probabilities = model.predict(x_test)\n",
    "predictions = np.argmax(class_probabilities, axis=1)\n",
    "true_labels = np.argmax(y_test, axis=1)\n",
    "\n",
    "# Plot the confusion matrix\n",
    "cm = confusion_matrix(true_labels, predictions)\n",
    "plt.imshow(cm, interpolation=\"nearest\", cmap=plt.cm.Blues)\n",
    "plt.colorbar()\n",
    "tick_marks = np.arange(len(penguin_classes))\n",
    "plt.xticks(tick_marks, penguin_classes, rotation=85)\n",
    "plt.yticks(tick_marks, penguin_classes)\n",
    "plt.xlabel(\"Predicted Species\")\n",
    "plt.ylabel(\"Actual Species\")\n",
    "plt.show()"
   ]
  },
  {
   "cell_type": "markdown",
   "metadata": {},
   "source": [
    "The confusion matrix should show a strong diagonal line indicating that there are more correct than incorrect predictions for each class.\n",
    "\n",
    "## Save the trained model\n",
    "Now that we have a model we believe is reasonably accurate, we can save its trained weights for use later."
   ]
  },
  {
   "cell_type": "code",
   "execution_count": 18,
   "metadata": {},
   "outputs": [
    {
     "name": "stdout",
     "output_type": "stream",
     "text": [
      "model saved as models/penguin-classifier.h5\n"
     ]
    },
    {
     "name": "stderr",
     "output_type": "stream",
     "text": [
      "C:\\Users\\monika201103\\Anaconda3\\lib\\site-packages\\keras\\src\\engine\\training.py:3079: UserWarning: You are saving your model as an HDF5 file via `model.save()`. This file format is considered legacy. We recommend using instead the native Keras format, e.g. `model.save('my_model.keras')`.\n",
      "  saving_api.save_model(\n"
     ]
    }
   ],
   "source": [
    "# Save the trained model\n",
    "modelFileName = 'models/penguin-classifier.h5'\n",
    "model.save(modelFileName)\n",
    "del model  # deletes the existing model variable\n",
    "print('model saved as', modelFileName)"
   ]
  },
  {
   "cell_type": "markdown",
   "metadata": {},
   "source": [
    "## Use the trained model\n",
    "\n",
    "When we have a new penguin observation, we can use the model to predict the species."
   ]
  },
  {
   "cell_type": "code",
   "execution_count": 19,
   "metadata": {
    "tags": []
   },
   "outputs": [
    {
     "name": "stdout",
     "output_type": "stream",
     "text": [
      "New sample: [[50.4 15.3 20.  50. ]]\n",
      "1/1 [==============================] - 0s 57ms/step\n",
      "Gentoo\n"
     ]
    }
   ],
   "source": [
    "# Load the saved model\n",
    "model = models.load_model(modelFileName)\n",
    "\n",
    "# CReate a new array of features\n",
    "x_new = np.array([[50.4,15.3,20,50]])\n",
    "print ('New sample: {}'.format(x_new))\n",
    "\n",
    "# Use the model to predict the class\n",
    "class_probabilities = model.predict(x_new)\n",
    "predictions = np.argmax(class_probabilities, axis=1)\n",
    "\n",
    "print(penguin_classes[predictions[0]])"
   ]
  },
  {
   "cell_type": "markdown",
   "metadata": {},
   "source": [
    "## Learn more\n",
    "\n",
    "This notebook was designed to help you understand the basic concepts and principles involved in deep neural networks, using a simple Tensorflow example. To learn more about Tensorflow, take a look at the <a href=\"https://www.tensorflow.org/\" target=\"_blank\">Tensorflow web site</a>."
   ]
  }
 ],
 "metadata": {
  "kernelspec": {
   "display_name": "Python 3 (ipykernel)",
   "language": "python",
   "name": "python3"
  },
  "language_info": {
   "codemirror_mode": {
    "name": "ipython",
    "version": 3
   },
   "file_extension": ".py",
   "mimetype": "text/x-python",
   "name": "python",
   "nbconvert_exporter": "python",
   "pygments_lexer": "ipython3",
   "version": "3.9.13"
  }
 },
 "nbformat": 4,
 "nbformat_minor": 2
}
